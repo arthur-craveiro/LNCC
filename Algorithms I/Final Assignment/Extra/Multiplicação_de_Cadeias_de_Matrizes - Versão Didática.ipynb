{
  "nbformat": 4,
  "nbformat_minor": 0,
  "metadata": {
    "colab": {
      "provenance": []
    },
    "kernelspec": {
      "name": "python3",
      "display_name": "Python 3"
    },
    "language_info": {
      "name": "python"
    }
  },
  "cells": [
    {
      "cell_type": "markdown",
      "source": [
        "## Múltiplicação de Matrizes"
      ],
      "metadata": {
        "id": "EjtrRpFW10RF"
      }
    },
    {
      "cell_type": "markdown",
      "source": [
        "* Docente: Arthur Craveiro.\n",
        "* Email: arthur.craveiro@gmail.com\n",
        "* Sala: 1A-57.\n",
        "\n",
        "* Disciplina: Algoritmos I / GA-026.\n",
        "* Professor: Roberto P. Souto."
      ],
      "metadata": {
        "id": "tp0XNyXLe7jo"
      }
    },
    {
      "cell_type": "code",
      "source": [
        "import sys\n",
        "import time\n",
        "import matplotlib.pyplot as plt\n",
        "import random"
      ],
      "metadata": {
        "id": "Q2lUkpO3Ssey"
      },
      "execution_count": 3,
      "outputs": []
    },
    {
      "cell_type": "code",
      "source": [
        "# Constante para representar infinito (um valor muito grande)\n",
        "maximo_int = int(1e9+7)\n",
        "\n",
        "def OrdemMultiplicacaoMatriz(p, n):\n",
        "    # Inicializa a matriz 'm' com 0's para armazenar os custos mínimos\n",
        "    m = [[0 for x in range(n)] for x in range(n)]\n",
        "\n",
        "    # m[i][j] representa o custo mínimo de multiplicação das matrizes da cadeia de i até j\n",
        "    # O custo é zero quando multiplicamos uma única matriz\n",
        "    for i in range(1, n):\n",
        "        m[i][i] = 0\n",
        "\n",
        "    # 'L' representa o comprimento da cadeia de matrizes\n",
        "    for L in range(2, n):\n",
        "        for i in range(1, n - L + 1):\n",
        "            j = i + L - 1\n",
        "            m[i][j] = maximo_int\n",
        "            for k in range(i, j):\n",
        "                # Calcula o custo da multiplicação e compara com o valor mínimo atual\n",
        "                custo = m[i][k] + m[k + 1][j] + p[i - 1] * p[k] * p[j]\n",
        "                if custo < m[i][j]:\n",
        "                    m[i][j] = custo\n",
        "\n",
        "    # Retorna o custo mínimo encontrado\n",
        "    return m[1][n - 1]\n",
        "\n",
        "# Código de Teste\n",
        "arr = [1, 2, 3, 4]\n",
        "tamanho = len(arr)\n",
        "\n",
        "print(\"Número mínimo de multiplicações é \" + str(OrdemMultiplicacaoMatriz(arr, tamanho)))"
      ],
      "metadata": {
        "colab": {
          "base_uri": "https://localhost:8080/"
        },
        "id": "jnhe5iIW7zXE",
        "outputId": "ad85b8c0-45c7-4152-c811-f547e4c692b3"
      },
      "execution_count": 1,
      "outputs": [
        {
          "output_type": "stream",
          "name": "stdout",
          "text": [
            "Número mínimo de multiplicações é 18\n"
          ]
        }
      ]
    },
    {
      "cell_type": "code",
      "source": [
        "# Incluindo o código do algoritmo de Multiplicação de Cadeias de Matrizes aqui\n",
        "\n",
        "def gerar_instancia(tamanho, tipo):\n",
        "    if tipo == 'Melhor Caso':\n",
        "        # Para o melhor caso, podemos escolher dimensões que tornem as multiplicações mais diretas\n",
        "        return [2 for _ in range(tamanho)]\n",
        "    elif tipo == 'Pior Caso':\n",
        "        # Para o pior caso, alternar entre dimensões grandes e pequenas pode aumentar a complexidade\n",
        "        return [100 if i % 2 == 0 else 1 for i in range(tamanho)]\n",
        "    else:  # Caso Médio\n",
        "        # Dimensões aleatórias para o caso médio\n",
        "        return [random.randint(1, 100) for _ in range(tamanho)]\n",
        "\n",
        "def medir_tempo(funcao, p):\n",
        "    inicio = time.time()\n",
        "    funcao(p, len(p))\n",
        "    fim = time.time()\n",
        "    return fim - inicio\n",
        "\n",
        "# Testando o algoritmo com diferentes tamanhos e tipos de instância\n",
        "tamanhos = [5, 10, 30, 50, 100, 150, 200, 250, 300]\n",
        "tipos = ['Melhor Caso', 'Pior Caso', 'Caso Médio']\n",
        "resultados = {tipo: [] for tipo in tipos}\n",
        "\n",
        "for tipo in tipos:\n",
        "    for tamanho in tamanhos:\n",
        "        instancia = gerar_instancia(tamanho, tipo)\n",
        "        tempo = medir_tempo(OrdemMultiplicacaoMatriz, instancia)\n",
        "        resultados[tipo].append(tempo)\n",
        "\n",
        "# Plotando os resultados\n",
        "for tipo, tempos in resultados.items():\n",
        "    plt.plot(tamanhos, tempos, label=tipo)\n",
        "\n",
        "plt.xlabel('Tamanho da Instância')\n",
        "plt.ylabel('Tempo de Execução (segundos)')\n",
        "plt.title('Tempo de Execução do Algoritmo de Multiplicação de Cadeias de Matrizes')\n",
        "plt.legend()\n",
        "plt.show()"
      ],
      "metadata": {
        "colab": {
          "base_uri": "https://localhost:8080/",
          "height": 382
        },
        "id": "Aht3c5Ob7xR3",
        "outputId": "81fa0398-1f85-4d32-9d40-25889e5b4854"
      },
      "execution_count": 2,
      "outputs": [
        {
          "output_type": "error",
          "ename": "NameError",
          "evalue": "ignored",
          "traceback": [
            "\u001b[0;31m---------------------------------------------------------------------------\u001b[0m",
            "\u001b[0;31mNameError\u001b[0m                                 Traceback (most recent call last)",
            "\u001b[0;32m<ipython-input-2-02c3fbb9f6d1>\u001b[0m in \u001b[0;36m<cell line: 25>\u001b[0;34m()\u001b[0m\n\u001b[1;32m     26\u001b[0m     \u001b[0;32mfor\u001b[0m \u001b[0mtamanho\u001b[0m \u001b[0;32min\u001b[0m \u001b[0mtamanhos\u001b[0m\u001b[0;34m:\u001b[0m\u001b[0;34m\u001b[0m\u001b[0;34m\u001b[0m\u001b[0m\n\u001b[1;32m     27\u001b[0m         \u001b[0minstancia\u001b[0m \u001b[0;34m=\u001b[0m \u001b[0mgerar_instancia\u001b[0m\u001b[0;34m(\u001b[0m\u001b[0mtamanho\u001b[0m\u001b[0;34m,\u001b[0m \u001b[0mtipo\u001b[0m\u001b[0;34m)\u001b[0m\u001b[0;34m\u001b[0m\u001b[0;34m\u001b[0m\u001b[0m\n\u001b[0;32m---> 28\u001b[0;31m         \u001b[0mtempo\u001b[0m \u001b[0;34m=\u001b[0m \u001b[0mmedir_tempo\u001b[0m\u001b[0;34m(\u001b[0m\u001b[0mOrdemMultiplicacaoMatriz\u001b[0m\u001b[0;34m,\u001b[0m \u001b[0minstancia\u001b[0m\u001b[0;34m)\u001b[0m\u001b[0;34m\u001b[0m\u001b[0;34m\u001b[0m\u001b[0m\n\u001b[0m\u001b[1;32m     29\u001b[0m         \u001b[0mresultados\u001b[0m\u001b[0;34m[\u001b[0m\u001b[0mtipo\u001b[0m\u001b[0;34m]\u001b[0m\u001b[0;34m.\u001b[0m\u001b[0mappend\u001b[0m\u001b[0;34m(\u001b[0m\u001b[0mtempo\u001b[0m\u001b[0;34m)\u001b[0m\u001b[0;34m\u001b[0m\u001b[0;34m\u001b[0m\u001b[0m\n\u001b[1;32m     30\u001b[0m \u001b[0;34m\u001b[0m\u001b[0m\n",
            "\u001b[0;32m<ipython-input-2-02c3fbb9f6d1>\u001b[0m in \u001b[0;36mmedir_tempo\u001b[0;34m(funcao, p)\u001b[0m\n\u001b[1;32m     13\u001b[0m \u001b[0;34m\u001b[0m\u001b[0m\n\u001b[1;32m     14\u001b[0m \u001b[0;32mdef\u001b[0m \u001b[0mmedir_tempo\u001b[0m\u001b[0;34m(\u001b[0m\u001b[0mfuncao\u001b[0m\u001b[0;34m,\u001b[0m \u001b[0mp\u001b[0m\u001b[0;34m)\u001b[0m\u001b[0;34m:\u001b[0m\u001b[0;34m\u001b[0m\u001b[0;34m\u001b[0m\u001b[0m\n\u001b[0;32m---> 15\u001b[0;31m     \u001b[0minicio\u001b[0m \u001b[0;34m=\u001b[0m \u001b[0mtime\u001b[0m\u001b[0;34m.\u001b[0m\u001b[0mtime\u001b[0m\u001b[0;34m(\u001b[0m\u001b[0;34m)\u001b[0m\u001b[0;34m\u001b[0m\u001b[0;34m\u001b[0m\u001b[0m\n\u001b[0m\u001b[1;32m     16\u001b[0m     \u001b[0mfuncao\u001b[0m\u001b[0;34m(\u001b[0m\u001b[0mp\u001b[0m\u001b[0;34m,\u001b[0m \u001b[0mlen\u001b[0m\u001b[0;34m(\u001b[0m\u001b[0mp\u001b[0m\u001b[0;34m)\u001b[0m\u001b[0;34m)\u001b[0m\u001b[0;34m\u001b[0m\u001b[0;34m\u001b[0m\u001b[0m\n\u001b[1;32m     17\u001b[0m     \u001b[0mfim\u001b[0m \u001b[0;34m=\u001b[0m \u001b[0mtime\u001b[0m\u001b[0;34m.\u001b[0m\u001b[0mtime\u001b[0m\u001b[0;34m(\u001b[0m\u001b[0;34m)\u001b[0m\u001b[0;34m\u001b[0m\u001b[0;34m\u001b[0m\u001b[0m\n",
            "\u001b[0;31mNameError\u001b[0m: name 'time' is not defined"
          ]
        }
      ]
    }
  ]
}