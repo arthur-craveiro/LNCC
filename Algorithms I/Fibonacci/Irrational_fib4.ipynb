{
  "cells": [
    {
      "cell_type": "markdown",
      "metadata": {
        "id": "4KChJZiaw0Vs"
      },
      "source": [
        "# GA-026: Algoritmos"
      ]
    },
    {
      "cell_type": "markdown",
      "metadata": {
        "id": "kqYO2Zzww0Vw"
      },
      "source": [
        "## Fibonacci - versão em tempo constante\n",
        "$$F_{n}=\\frac{1}{\\sqrt{5}}\\left(\\frac{1+\\sqrt{5}}{2}\\right)^{n}-\\frac{1}{\\sqrt{5}}\\left(\\frac{1-\\sqrt{5}}{2}\\right)^{n}$$"
      ]
    },
    {
      "cell_type": "code",
      "execution_count": 2,
      "metadata": {
        "id": "6Yxt8rwLw0Vw",
        "tags": [],
        "outputId": "6544625a-f96e-48b7-a75a-5110a6ab3610",
        "colab": {
          "base_uri": "https://localhost:8080/"
        }
      },
      "outputs": [
        {
          "output_type": "stream",
          "name": "stdout",
          "text": [
            "2.189229958345559e+20\n"
          ]
        }
      ],
      "source": [
        "# import the math module\n",
        "import math\n",
        "\n",
        "sqrt5 = math.sqrt(5)\n",
        "n=100\n",
        "n=n-1\n",
        "# pois começa em 0\n",
        "varphi=(1+sqrt5)/2\n",
        "varphihat=(1-sqrt5)/2\n",
        "Fn=(math.pow(varphi,n)-math.pow(varphihat,n))/sqrt5\n",
        "# math.pow eleva o primeiro parâmetro ao segundo\n",
        "print(Fn)\n"
      ]
    },
    {
      "cell_type": "code",
      "execution_count": null,
      "metadata": {
        "id": "g5X1EXOPw0Vy"
      },
      "outputs": [],
      "source": []
    }
  ],
  "metadata": {
    "colab": {
      "name": "fib3.ipynb",
      "provenance": []
    },
    "kernelspec": {
      "display_name": "Python 3",
      "language": "python",
      "name": "python3"
    },
    "language_info": {
      "codemirror_mode": {
        "name": "ipython",
        "version": 3
      },
      "file_extension": ".py",
      "mimetype": "text/x-python",
      "name": "python",
      "nbconvert_exporter": "python",
      "pygments_lexer": "ipython3",
      "version": "3.7.9"
    }
  },
  "nbformat": 4,
  "nbformat_minor": 0
}