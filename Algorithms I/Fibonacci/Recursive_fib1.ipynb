{
  "nbformat": 4,
  "nbformat_minor": 0,
  "metadata": {
    "kernelspec": {
      "display_name": "Python 3",
      "language": "python",
      "name": "python3"
    },
    "language_info": {
      "codemirror_mode": {
        "name": "ipython",
        "version": 3
      },
      "file_extension": ".py",
      "mimetype": "text/x-python",
      "name": "python",
      "nbconvert_exporter": "python",
      "pygments_lexer": "ipython3",
      "version": "3.7.7"
    },
    "colab": {
      "name": "fib1.ipynb",
      "provenance": []
    }
  },
  "cells": [
    {
      "cell_type": "markdown",
      "metadata": {
        "id": "okhq-JxRjv-Z"
      },
      "source": [
        "# GA-026: Algoritmos"
      ]
    },
    {
      "cell_type": "markdown",
      "metadata": {
        "id": "QpTpXOs8jv-c"
      },
      "source": [
        "## Fibonacci - versão recursiva"
      ]
    },
    {
      "cell_type": "code",
      "metadata": {
        "tags": [],
        "id": "aX8qqnCdjv-d",
        "outputId": "6a0ffa9a-3481-4b5f-e8d7-1fdba0ae790a",
        "colab": {
          "base_uri": "https://localhost:8080/"
        }
      },
      "source": [
        "# Python program to display the Fibonacci sequence up to n-th term using recursive functions\n",
        "# https://www.programiz.com/python-programming/examples/fibonacci-recursion\n",
        "\n",
        "def recur_fibo(n):\n",
        "   \"\"\"Recursive function to\n",
        "   print Fibonacci sequence\"\"\"\n",
        "   if n <= 1:\n",
        "       return n\n",
        "   else:\n",
        "       return(recur_fibo(n-1) + recur_fibo(n-2))\n",
        "\n",
        "# Change this value for a different result\n",
        "nterms = 15\n",
        "\n",
        "# uncomment to take input from the user\n",
        "#nterms = int(input(\"How many terms? \"))\n",
        "\n",
        "# check if the number of terms is valid\n",
        "if nterms <= 0:\n",
        "   print(\"Plese enter a positive integer\")\n",
        "else:\n",
        "   print(\"Recursive Fibonacci sequence up to\",nterms,\":\")\n",
        "   for i in range(nterms):\n",
        "       print(recur_fibo(i))"
      ],
      "execution_count": 2,
      "outputs": [
        {
          "output_type": "stream",
          "name": "stdout",
          "text": [
            "Recursive Fibonacci sequence up to 15 :\n",
            "0\n",
            "1\n",
            "1\n",
            "2\n",
            "3\n",
            "5\n",
            "8\n",
            "13\n",
            "21\n",
            "34\n",
            "55\n",
            "89\n",
            "144\n",
            "233\n",
            "377\n"
          ]
        }
      ]
    },
    {
      "cell_type": "code",
      "metadata": {
        "id": "WTJs1Ij_jv-g"
      },
      "source": [],
      "execution_count": null,
      "outputs": []
    }
  ]
}