{
  "nbformat": 4,
  "nbformat_minor": 0,
  "metadata": {
    "kernelspec": {
      "display_name": "Python 3",
      "language": "python",
      "name": "python3"
    },
    "language_info": {
      "codemirror_mode": {
        "name": "ipython",
        "version": 3
      },
      "file_extension": ".py",
      "mimetype": "text/x-python",
      "name": "python",
      "nbconvert_exporter": "python",
      "pygments_lexer": "ipython3",
      "version": "3.7.9"
    },
    "colab": {
      "name": "strassen.ipynb",
      "provenance": []
    }
  },
  "cells": [
    {
      "cell_type": "markdown",
      "metadata": {
        "id": "FPdLUfcjgpLM"
      },
      "source": [
        "# GA-026: Algoritmos"
      ]
    },
    {
      "cell_type": "markdown",
      "metadata": {
        "id": "Dm5q4AnSgpLQ"
      },
      "source": [
        "## Algoritmo de Strassen para multiplicação de matrizes"
      ]
    },
    {
      "cell_type": "code",
      "metadata": {
        "id": "i6TvyCeGgpLR"
      },
      "source": [
        "import numpy as np\n",
        ""
      ],
      "execution_count": 1,
      "outputs": []
    },
    {
      "cell_type": "code",
      "metadata": {
        "id": "jYvtY0h5gpLS"
      },
      "source": [
        "# nxn matrix multiplication using Python3\n",
        "# Function definition\n",
        "def matrix_multiplication(x, y, n):\n",
        "    R = np.zeros((n, n))\n",
        "\n",
        "    for i in range(0, n):\n",
        "        for j in range(0, n):\n",
        "            for k in range(0, n):\n",
        "                R[i][j] += x[i][k] * y[k][j]\n",
        "\n",
        "    return R"
      ],
      "execution_count": 2,
      "outputs": []
    },
    {
      "cell_type": "code",
      "metadata": {
        "id": "yrLzAbEdgpLT"
      },
      "source": [
        "def split(matrix):\n",
        "    \"\"\"\n",
        "    Splits a given matrix into quarters.\n",
        "    Input: nxn matrix\n",
        "    Output: tuple containing 4 n/2 x n/2 matrices corresponding to a, b, c, d\n",
        "    \"\"\"\n",
        "    row, col = matrix.shape #row = linha e col = coluna\n",
        "    row2, col2 = row//2, col//2\n",
        "    return matrix[:row2, :col2], matrix[:row2, col2:], matrix[row2:, :col2], matrix[row2:, col2:]"
      ],
      "execution_count": 3,
      "outputs": []
    },
    {
      "cell_type": "code",
      "metadata": {
        "id": "Hka8P100gpLU"
      },
      "source": [
        "def strassen(x, y):\n",
        "    \"\"\"\n",
        "    Computes matrix product by divide and conquer approach, recursively.\n",
        "    Input: nxn matrices x and y\n",
        "    Output: nxn matrix, product of x and y\n",
        "    \"\"\"\n",
        "\n",
        "    # Base case when size of matrices is 1x1\n",
        "    if len(x) == 1:\n",
        "        return x * y\n",
        "\n",
        "    # Splitting the matrices into quadrants. This will be done recursively\n",
        "    # until the base case is reached.\n",
        "    a, b, c, d = split(x)\n",
        "    e, f, g, h = split(y)\n",
        "\n",
        "    # Computing the 7 products, recursively (p1, p2...p7)\n",
        "    p1 = strassen(a, f - h)\n",
        "    p2 = strassen(a + b, h)\n",
        "    p3 = strassen(c + d, e)\n",
        "    p4 = strassen(d, g - e)\n",
        "    p5 = strassen(a + d, e + h)\n",
        "    p6 = strassen(b - d, g + h)\n",
        "    p7 = strassen(a - c, e + f)\n",
        "\n",
        "    # Computing the values of the 4 quadrants of the final matrix c\n",
        "    c11 = p5 + p4 - p2 + p6\n",
        "    c12 = p1 + p2\n",
        "    c21 = p3 + p4\n",
        "    c22 = p1 + p5 - p3 - p7\n",
        "\n",
        "    # Combining the 4 quadrants into a single matrix by stacking horizontally and vertically.\n",
        "    c = np.vstack((np.hstack((c11, c12)), np.hstack((c21, c22))))\n",
        "\n",
        "    return c"
      ],
      "execution_count": 4,
      "outputs": []
    },
    {
      "cell_type": "code",
      "metadata": {
        "id": "2wCGXgvLgpLV"
      },
      "source": [
        "# 1st argument --> numbers ranging from 0 to 9,\n",
        "# 2nd argument, row = n, col = n\n",
        "n=pow(2,4)\n",
        "x = np.random.randint(10, size=(n, n))\n",
        "y = np.random.randint(10, size=(n, n))"
      ],
      "execution_count": 5,
      "outputs": []
    },
    {
      "cell_type": "code",
      "metadata": {
        "id": "WwH7hbXQgpLW"
      },
      "source": [
        "xy_orig = matrix_multiplication(x, y, n);"
      ],
      "execution_count": 6,
      "outputs": []
    },
    {
      "cell_type": "code",
      "metadata": {
        "id": "RHnMXA17gpLW"
      },
      "source": [
        "xy_strassen =strassen(x, y);"
      ],
      "execution_count": 7,
      "outputs": []
    },
    {
      "cell_type": "code",
      "metadata": {
        "id": "dVHR5spKgpLX",
        "outputId": "e0e604e5-9ae0-4730-a463-5d431a81e2f3",
        "colab": {
          "base_uri": "https://localhost:8080/"
        }
      },
      "source": [
        "# Verificando a correção do algoritmo\n",
        "d=xy_orig-xy_strassen;\n",
        "np.amax(d)"
      ],
      "execution_count": 8,
      "outputs": [
        {
          "output_type": "execute_result",
          "data": {
            "text/plain": [
              "0.0"
            ]
          },
          "metadata": {},
          "execution_count": 8
        }
      ]
    },
    {
      "cell_type": "code",
      "metadata": {
        "id": "DwrTDbLZgpLX"
      },
      "source": [
        "# 1st argument --> numbers ranging from 0 to 9,\n",
        "# 2nd argument, row = n, col = n\n",
        "n=pow(2,7)\n",
        "x = np.random.randint(10, size=(n, n))\n",
        "y = np.random.randint(10, size=(n, n))"
      ],
      "execution_count": 9,
      "outputs": []
    },
    {
      "cell_type": "code",
      "metadata": {
        "id": "nNQcPZWrgpLY",
        "outputId": "b565c60c-6a59-434b-a8aa-0d2d30a246d6",
        "colab": {
          "base_uri": "https://localhost:8080/"
        }
      },
      "source": [
        "import time\n",
        "# Tempo do algoritmo original\n",
        "start_time = time.time()\n",
        "xy_orig = matrix_multiplication(x, y, n);\n",
        "end_time = time.time()\n",
        "print(end_time-start_time)"
      ],
      "execution_count": 10,
      "outputs": [
        {
          "output_type": "stream",
          "name": "stdout",
          "text": [
            "2.132528781890869\n"
          ]
        }
      ]
    },
    {
      "cell_type": "code",
      "metadata": {
        "id": "w8OP1NI0gpLY",
        "outputId": "18e6e484-abdd-42d2-b949-026c0d913ee6",
        "colab": {
          "base_uri": "https://localhost:8080/"
        }
      },
      "source": [
        "# Tempo do algoritmo de Strassen\n",
        "start_time = time.time()\n",
        "xy_strassen =strassen(x, y);\n",
        "end_time = time.time()\n",
        "print(end_time-start_time)"
      ],
      "execution_count": 11,
      "outputs": [
        {
          "output_type": "stream",
          "name": "stdout",
          "text": [
            "5.999291658401489\n"
          ]
        }
      ]
    },
    {
      "cell_type": "code",
      "metadata": {
        "id": "p4CK203xgpLZ"
      },
      "source": [],
      "execution_count": null,
      "outputs": []
    }
  ]
}