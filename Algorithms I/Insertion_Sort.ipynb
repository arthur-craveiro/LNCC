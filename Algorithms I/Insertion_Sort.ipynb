{
  "nbformat": 4,
  "nbformat_minor": 0,
  "metadata": {
    "colab": {
      "name": "Insertion-Sort.ipynb",
      "provenance": [],
      "toc_visible": true
    },
    "kernelspec": {
      "display_name": "Python 3",
      "language": "python",
      "name": "python3"
    },
    "language_info": {
      "codemirror_mode": {
        "name": "ipython",
        "version": 3
      },
      "file_extension": ".py",
      "mimetype": "text/x-python",
      "name": "python",
      "nbconvert_exporter": "python",
      "pygments_lexer": "ipython3",
      "version": "3.7.7"
    }
  },
  "cells": [
    {
      "cell_type": "markdown",
      "metadata": {
        "id": "pvPJsE8cTaG5"
      },
      "source": [
        "# GA-026: Algoritmos"
      ]
    },
    {
      "cell_type": "markdown",
      "metadata": {
        "id": "ZVxUN2riuj35"
      },
      "source": [
        "## Ordenação por Inserção (Insertion Sort)"
      ]
    },
    {
      "cell_type": "code",
      "metadata": {
        "id": "RNZ3nlkBSPcC"
      },
      "source": [
        "# Function to do insertion sort\n",
        "# Baseado no código original de https://www.geeksforgeeks.org/insertion-sort/\n",
        "def insertionSort(arr):\n",
        "\n",
        "    # Traverse through 1 to len(arr)\n",
        "    for j in range(1, len(arr)):\n",
        "\n",
        "        key = arr[j]\n",
        "\n",
        "        # Move elements of arr[0..j-1], that are\n",
        "\n",
        "        # greater than key, to one position ahead\n",
        "        # of their current position\n",
        "        i = j-1\n",
        "        while i >= 0 and key < arr[i] :\n",
        "                arr[i + 1] = arr[i]\n",
        "                i -= 1\n",
        "        arr[i + 1] = key"
      ],
      "execution_count": 1,
      "outputs": []
    },
    {
      "cell_type": "code",
      "metadata": {
        "tags": [],
        "id": "6UIKHQc1mHKb",
        "outputId": "48da1855-9172-4432-e7c2-4f30adc9d536",
        "colab": {
          "base_uri": "https://localhost:8080/"
        }
      },
      "source": [
        "import random\n",
        "#Generate n random numbers between 1 and p\n",
        "p=100\n",
        "n=20\n",
        "randomlist = random.sample(range(1, p), n)\n",
        "print(randomlist)"
      ],
      "execution_count": 2,
      "outputs": [
        {
          "output_type": "stream",
          "name": "stdout",
          "text": [
            "[47, 85, 38, 91, 3, 60, 99, 52, 43, 16, 66, 23, 64, 93, 7, 45, 80, 18, 33, 55]\n"
          ]
        }
      ]
    },
    {
      "cell_type": "code",
      "metadata": {
        "scrolled": true,
        "tags": [],
        "id": "yPuS5eJlmHKb",
        "outputId": "947acb68-2ec1-4f07-d56c-7f40ecf19c9e",
        "colab": {
          "base_uri": "https://localhost:8080/",
          "height": 406
        }
      },
      "source": [
        "import matplotlib.pyplot as plt\n",
        "randomliststr = []\n",
        "for j in range(0,n):\n",
        "   value_str = str(randomlist[j])\n",
        "   randomliststr.append(value_str)\n",
        "\n",
        "plt.bar(randomliststr,randomlist)\n",
        "plt.xticks([])\n",
        "plt.yticks([])\n",
        "plt.show()"
      ],
      "execution_count": 3,
      "outputs": [
        {
          "output_type": "display_data",
          "data": {
            "text/plain": [
              "<Figure size 640x480 with 1 Axes>"
            ],
            "image/png": "[encoded data removed]"
          },
          "metadata": {}
        }
      ]
    },
    {
      "cell_type": "code",
      "metadata": {
        "tags": [],
        "id": "4smI1VUkmHKc",
        "outputId": "0fee9c79-9dcc-44f4-8280-1ffd77c76fcc",
        "colab": {
          "base_uri": "https://localhost:8080/"
        }
      },
      "source": [
        "# Driver code to test above\n",
        "insertionSort(randomlist)\n",
        "print(randomlist)"
      ],
      "execution_count": 4,
      "outputs": [
        {
          "output_type": "stream",
          "name": "stdout",
          "text": [
            "[3, 7, 16, 18, 23, 33, 38, 43, 45, 47, 52, 55, 60, 64, 66, 80, 85, 91, 93, 99]\n"
          ]
        }
      ]
    },
    {
      "cell_type": "code",
      "metadata": {
        "tags": [],
        "id": "u-mR1UsUmHKc",
        "outputId": "21f299a3-e195-42de-ab37-60797517ae3c",
        "colab": {
          "base_uri": "https://localhost:8080/",
          "height": 406
        }
      },
      "source": [
        "import matplotlib.pyplot as plt\n",
        "randomliststr = []\n",
        "for j in range(0,n):\n",
        "   value_str = str(randomlist[j])\n",
        "   randomliststr.append(value_str)\n",
        "\n",
        "plt.bar(randomliststr,randomlist)\n",
        "plt.xticks([])\n",
        "plt.yticks([])\n",
        "plt.show()"
      ],
      "execution_count": 5,
      "outputs": [
        {
          "output_type": "display_data",
          "data": {
            "text/plain": [
              "<Figure size 640x480 with 1 Axes>"
            ],
            "image/png": "[encoded data removed]"
          },
          "metadata": {}
        }
      ]
    },
    {
      "cell_type": "markdown",
      "metadata": {
        "id": "MTEMkGRjmHKd"
      },
      "source": [
        "## Medindo tempo de execução"
      ]
    },
    {
      "cell_type": "code",
      "metadata": {
        "id": "N9UWIYhSmHKd"
      },
      "source": [
        "import random\n",
        "#Generate random numbers between 1 and p\n",
        "p=10\n",
        "randomlist = random.sample(range(1, p),p-1)"
      ],
      "execution_count": 6,
      "outputs": []
    },
    {
      "cell_type": "code",
      "metadata": {
        "tags": [],
        "id": "ZZGqt3FImHKe",
        "outputId": "dd67ca06-1bd5-4afe-dd2e-1acde271b697",
        "colab": {
          "base_uri": "https://localhost:8080/"
        }
      },
      "source": [
        "# Driver code to test above\n",
        "import time\n",
        "start_time = time.time()\n",
        "\n",
        "insertionSort(randomlist)\n",
        "\n",
        "print(\"--- %s seconds ---\" % (time.time() - start_time))"
      ],
      "execution_count": 7,
      "outputs": [
        {
          "output_type": "stream",
          "name": "stdout",
          "text": [
            "--- 0.0001430511474609375 seconds ---\n"
          ]
        }
      ]
    },
    {
      "cell_type": "code",
      "metadata": {
        "tags": [],
        "id": "gdAy2MxomHKf",
        "outputId": "1055fc38-a63b-4b36-a10b-52bc1a54e1b3",
        "colab": {
          "base_uri": "https://localhost:8080/",
          "height": 430
        }
      },
      "source": [
        "import matplotlib.pyplot as plt\n",
        "import random\n",
        "import time\n",
        "p = [1000, 2000, 3000, 4000, 5000, 6000, 7000, 8000, 9000, 10000]\n",
        "t = []\n",
        "for i in p:\n",
        "    randomlist = random.sample(range(1, i),i-1)\n",
        "    start_time = time.time()\n",
        "    insertionSort(randomlist)\n",
        "    end_time = time.time() - start_time\n",
        "    t.append(end_time)\n",
        "plt.plot(p,t,'ro')\n",
        "plt.show()"
      ],
      "execution_count": 8,
      "outputs": [
        {
          "output_type": "display_data",
          "data": {
            "text/plain": [
              "<Figure size 640x480 with 1 Axes>"
            ],
            "image/png": "[encoded data removed]"
          },
          "metadata": {}
        }
      ]
    },
    {
      "cell_type": "code",
      "metadata": {
        "tags": [],
        "id": "34DbXOusmHKf",
        "outputId": "0d5e2ff6-310f-42ae-d391-664529292113",
        "colab": {
          "base_uri": "https://localhost:8080/"
        }
      },
      "source": [
        "import numpy as np\n",
        "matrix = np.array(t)\n",
        "t_tr=matrix.reshape(matrix.size,1)\n",
        "print(t_tr)"
      ],
      "execution_count": 9,
      "outputs": [
        {
          "output_type": "stream",
          "name": "stdout",
          "text": [
            "[[0.05088234]\n",
            " [0.17944407]\n",
            " [0.41066623]\n",
            " [0.99970865]\n",
            " [1.21078467]\n",
            " [1.69849038]\n",
            " [3.61148787]\n",
            " [2.8445406 ]\n",
            " [3.65279388]\n",
            " [5.9577527 ]]\n"
          ]
        }
      ]
    }
  ]
}