{
  "nbformat": 4,
  "nbformat_minor": 0,
  "metadata": {
    "anaconda-cloud": {},
    "kernelspec": {
      "display_name": "Python 3",
      "language": "python",
      "name": "python3"
    },
    "language_info": {
      "codemirror_mode": {
        "name": "ipython",
        "version": 3
      },
      "file_extension": ".py",
      "mimetype": "text/x-python",
      "name": "python",
      "nbconvert_exporter": "python",
      "pygments_lexer": "ipython3",
      "version": "3.7.7"
    },
    "colab": {
      "name": "heaps.ipynb",
      "provenance": []
    }
  },
  "cells": [
    {
      "cell_type": "markdown",
      "metadata": {
        "id": "pvPJsE8cTaG5"
      },
      "source": [
        "# GA-026: Algoritmos"
      ]
    },
    {
      "cell_type": "code",
      "metadata": {
        "id": "1a7S37BOl_HI"
      },
      "source": [
        "# To avoid issues about heap vs array size, we will simply use a Python list, and resize it as needed\n",
        "\n",
        "A = []\n",
        "def heap_size(A): return len(A)\n",
        "\n",
        "def Left(i): return 2*i+1\n",
        "def Right(i): return 2*i+2\n",
        "def parent(i): return (i-1)//2\n",
        "\n",
        "def maximum(A):\n",
        "    if heap_size(A) < 1: raise Exception('Heap is empty.')\n",
        "    else: return A[0]\n",
        "\n",
        "def Heap_Extract_Max(A):\n",
        "    if heap_size(A) < 1: raise Exception('Heap is empty.')\n",
        "    max = A[0]\n",
        "    if heap_size(A) == 1: A = []\n",
        "    else:\n",
        "        A[0] = A.pop()\n",
        "        Max_Heapify(A,0)\n",
        "    return max\n",
        "\n",
        "def Max_Heapify(A,i,heapsize=None):\n",
        "    if heapsize==None: heapsize= heap_size(A)\n",
        "    if Left(i) < heapsize and A[Left(i)] > A[i]: largest = Left(i)\n",
        "    else: largest = i\n",
        "\n",
        "    if Right(i) < heapsize and A[Right(i)] > A[largest]: largest = Right(i)\n",
        "    if largest != i:\n",
        "        A[i], A[largest] = A[largest], A[i]\n",
        "        Max_Heapify(A, largest, heapsize)\n",
        "\n",
        "import math\n",
        "\n",
        "def Insert (A, key):\n",
        "    A.append(-math.inf)\n",
        "    Increase_Key(A, heap_size(A)-1, key)\n",
        "\n",
        "def Increase_Key(A, i, key):\n",
        "    if key < A[i]: raise Exception('key < A[i]')\n",
        "    A[i] = key\n",
        "    while i > 0  and A[parent(i)] < A[i]:\n",
        "        A[parent(i)], A[i] = A[i], A[parent(i)]\n",
        "        i = parent(i)\n",
        "\n",
        "def Build_Max_Heap(A):\n",
        "    for i in reversed(range(heap_size(A))): Max_Heapify(A,i)\n",
        "\n",
        "def HeapSort(A):\n",
        "    Build_Max_Heap(A)\n",
        "    heapsize = heap_size(A)\n",
        "    for i in reversed(range(1,heap_size(A))):\n",
        "        A[0], A[i] = A[i], A[0]\n",
        "        heapsize -= 1\n",
        "        Max_Heapify(A, 0, heapsize)"
      ],
      "execution_count": 1,
      "outputs": []
    },
    {
      "cell_type": "code",
      "metadata": {
        "id": "w7gx1MYcl_HL"
      },
      "source": [
        "A = [0,2,1,3]\n",
        "HeapSort(A)\n",
        "print(A)"
      ],
      "execution_count": null,
      "outputs": []
    },
    {
      "cell_type": "code",
      "metadata": {
        "id": "9cS4ydTBl_HM",
        "outputId": "e7ba83e5-1560-4b59-c475-27896b5114af",
        "colab": {
          "base_uri": "https://localhost:8080/"
        }
      },
      "source": [
        "import random\n",
        "\n",
        "A = list(range(1,30))\n",
        "random.shuffle(A)\n",
        "A.insert(0,0)\n",
        "print(A)"
      ],
      "execution_count": 2,
      "outputs": [
        {
          "output_type": "stream",
          "name": "stdout",
          "text": [
            "[0, 3, 19, 6, 26, 1, 28, 4, 22, 14, 20, 21, 29, 9, 25, 27, 12, 10, 18, 5, 13, 16, 8, 23, 7, 24, 11, 2, 17, 15]\n"
          ]
        }
      ]
    },
    {
      "cell_type": "code",
      "metadata": {
        "id": "ZS8AE-s5l_HN",
        "outputId": "c2fb4794-4421-41ef-c542-a61853f31f1a",
        "colab": {
          "base_uri": "https://localhost:8080/"
        }
      },
      "source": [
        "import random\n",
        "\n",
        "A = list(range(1,30))\n",
        "random.shuffle(A)\n",
        "print(A)"
      ],
      "execution_count": 3,
      "outputs": [
        {
          "output_type": "stream",
          "name": "stdout",
          "text": [
            "[23, 29, 24, 26, 18, 28, 7, 20, 15, 6, 27, 21, 4, 13, 2, 25, 5, 12, 10, 16, 3, 8, 17, 19, 22, 14, 9, 1, 11]\n"
          ]
        }
      ]
    },
    {
      "cell_type": "code",
      "metadata": {
        "id": "nw6HhnD7l_HN"
      },
      "source": [
        "Build_Max_Heap(A)"
      ],
      "execution_count": 4,
      "outputs": []
    },
    {
      "cell_type": "code",
      "metadata": {
        "id": "GsLso-x9l_HO",
        "outputId": "75ec7835-4083-41f4-fb79-859b6a63d425",
        "colab": {
          "base_uri": "https://localhost:8080/"
        }
      },
      "source": [
        "print(A)"
      ],
      "execution_count": 5,
      "outputs": [
        {
          "output_type": "stream",
          "name": "stdout",
          "text": [
            "[29, 27, 28, 26, 23, 24, 13, 25, 15, 16, 18, 22, 14, 11, 2, 20, 5, 12, 10, 6, 3, 8, 17, 19, 21, 4, 9, 1, 7]\n"
          ]
        }
      ]
    },
    {
      "cell_type": "code",
      "metadata": {
        "id": "_lL6L0Sal_HO"
      },
      "source": [
        " from heapq import *"
      ],
      "execution_count": 6,
      "outputs": []
    },
    {
      "cell_type": "code",
      "metadata": {
        "id": "ba9hUQbel_HP"
      },
      "source": [
        "heap = []\n",
        "for item in A:\n",
        "    heappush(heap, item)"
      ],
      "execution_count": 8,
      "outputs": []
    },
    {
      "cell_type": "code",
      "metadata": {
        "id": "8V-xlsofl_HP"
      },
      "source": [
        "heapify(A)"
      ],
      "execution_count": 9,
      "outputs": []
    },
    {
      "cell_type": "code",
      "metadata": {
        "id": "nNrw0hAJl_HQ",
        "outputId": "7a8c8dcb-4d38-4fc7-fc7c-ae29ee6106b0",
        "colab": {
          "base_uri": "https://localhost:8080/"
        }
      },
      "source": [
        "print(A)"
      ],
      "execution_count": 10,
      "outputs": [
        {
          "output_type": "stream",
          "name": "stdout",
          "text": [
            "[1, 3, 2, 5, 6, 4, 7, 20, 10, 16, 8, 19, 9, 11, 28, 26, 25, 12, 15, 23, 27, 18, 17, 22, 21, 14, 24, 29, 13]\n"
          ]
        }
      ]
    },
    {
      "cell_type": "code",
      "metadata": {
        "id": "s5bVuXWjl_HQ",
        "outputId": "e61a307f-4d31-4dd1-8bf4-00b2e7449a04",
        "colab": {
          "base_uri": "https://localhost:8080/"
        }
      },
      "source": [
        "HeapSort(A)\n",
        "print(A)"
      ],
      "execution_count": 11,
      "outputs": [
        {
          "output_type": "stream",
          "name": "stdout",
          "text": [
            "[1, 2, 3, 4, 5, 6, 7, 8, 9, 10, 11, 12, 13, 14, 15, 16, 17, 18, 19, 20, 21, 22, 23, 24, 25, 26, 27, 28, 29]\n"
          ]
        }
      ]
    },
    {
      "cell_type": "code",
      "metadata": {
        "id": "cWvvV1NZl_HQ"
      },
      "source": [
        "# For completeness below is a version with the index of the heap starting at index 1 (as e.g. in the Cormen et al. book)\n",
        "# To avoid issues about heap vs array size, we will simply use a Python list, and resize it as needed\n",
        "# The code is kept as close to the slides as possible. To avoid an index shift, we will place a dummy element (0) at the beginning of the list.\n",
        "A = [0]\n",
        "def heap_size(A): return len(A)-1\n",
        "\n",
        "def Left(i): return 2*i\n",
        "def Right(i): return 2*i+1\n",
        "def parent(i): return i//2\n",
        "\n",
        "def maximum(A):\n",
        "    if heap_size(A) < 1: raise Exception('Heap is empty.')\n",
        "    else: return A[1]\n",
        "\n",
        "def Heap_Extract_Max(A):\n",
        "    if heap_size(A) < 1: raise Exception('Heap is empty.')\n",
        "    max = A[1]\n",
        "    if heap_size(A) == 1: A = [0]\n",
        "    else:\n",
        "        A[1] = A.pop()\n",
        "        Max_Heapify(A,1)\n",
        "    return max\n",
        "\n",
        "def Max_Heapify(A,i,heapsize=None):\n",
        "    if heapsize==None: heapsize= heap_size(A)\n",
        "    if Left(i) <= heapsize and A[Left(i)] > A[i]: largest = Left(i)\n",
        "    else: largest = i\n",
        "\n",
        "    if Right(i) <= heapsize and A[Right(i)] > A[largest]: largest = Right(i)\n",
        "    if largest != i:\n",
        "        A[i], A[largest] = A[largest], A[i]\n",
        "        Max_Heapify(A, largest, heapsize)\n",
        "\n",
        "import math\n",
        "\n",
        "def Insert (A, key):\n",
        "    A.append(-math.inf)\n",
        "    Increase_Key(A, heap_size(A), key)\n",
        "\n",
        "def Increase_Key(A, i, key):\n",
        "    if key < A[i]: raise Exception('key < A[i]')\n",
        "    A[i] = key\n",
        "    while i>1  and A[parent(i)] < A[i]:\n",
        "        A[parent(i)], A[i] = A[i], A[parent(i)]\n",
        "        i = parent(i)\n",
        "\n",
        "def Build_Max_Heap(A): # We will assume that A has a dummy element at the beginning\n",
        "    for i in reversed(range(1,heap_size(A)+1)): Max_Heapify(A,i)\n",
        "\n",
        "def HeapSort(A):\n",
        "    Build_Max_Heap(A)\n",
        "    heapsize = heap_size(A)\n",
        "    for i in reversed(range(2,heap_size(A)+1)):\n",
        "        A[1], A[i] = A[i], A[1]\n",
        "        heapsize -= 1\n",
        "        Max_Heapify(A,1, heapsize)"
      ],
      "execution_count": null,
      "outputs": []
    },
    {
      "cell_type": "code",
      "metadata": {
        "id": "DWGhCPuSl_HR"
      },
      "source": [
        "A = [0,2,1,3]\n",
        "HeapSort(A)\n",
        "print(A)"
      ],
      "execution_count": null,
      "outputs": []
    },
    {
      "cell_type": "code",
      "metadata": {
        "id": "y_MwYiYol_HR",
        "outputId": "2c653251-ebb9-48fd-902c-161f10d105d7",
        "colab": {
          "base_uri": "https://localhost:8080/"
        }
      },
      "source": [
        "import random\n",
        "\n",
        "A = list(range(1,30))\n",
        "random.shuffle(A)\n",
        "A.insert(0,0)\n",
        "print(A)"
      ],
      "execution_count": 12,
      "outputs": [
        {
          "output_type": "stream",
          "name": "stdout",
          "text": [
            "[0, 19, 16, 15, 1, 2, 5, 28, 27, 20, 25, 18, 26, 29, 11, 9, 21, 10, 6, 17, 14, 8, 22, 3, 13, 12, 24, 23, 4, 7]\n"
          ]
        }
      ]
    },
    {
      "cell_type": "code",
      "metadata": {
        "id": "hfppD9C3l_HR",
        "outputId": "dad3628d-20ce-48b0-81cb-e571b56e05d2",
        "colab": {
          "base_uri": "https://localhost:8080/"
        }
      },
      "source": [
        "HeapSort(A)\n",
        "print(A)"
      ],
      "execution_count": 15,
      "outputs": [
        {
          "output_type": "stream",
          "name": "stdout",
          "text": [
            "[0, 1, 2, 3, 4, 5, 6, 7, 8, 9, 10, 11, 12, 13, 14, 15, 16, 17, 18, 19, 20, 21, 22, 23, 24, 25, 26, 27, 28, 29]\n"
          ]
        }
      ]
    },
    {
      "cell_type": "code",
      "metadata": {
        "id": "M_Lk6HYdl_HS",
        "outputId": "470b2767-5eeb-4597-ceed-300acfd0f3ca",
        "colab": {
          "base_uri": "https://localhost:8080/"
        }
      },
      "source": [
        "print(A)"
      ],
      "execution_count": 16,
      "outputs": [
        {
          "output_type": "stream",
          "name": "stdout",
          "text": [
            "[0, 1, 2, 3, 4, 5, 6, 7, 8, 9, 10, 11, 12, 13, 14, 15, 16, 17, 18, 19, 20, 21, 22, 23, 24, 25, 26, 27, 28, 29]\n"
          ]
        }
      ]
    },
    {
      "cell_type": "code",
      "metadata": {
        "id": "6jDsFG8Ll_HS"
      },
      "source": [
        "Max_Heapify(A, 1, heap_size(A)-1)"
      ],
      "execution_count": 17,
      "outputs": []
    },
    {
      "cell_type": "code",
      "metadata": {
        "id": "GIalWgSLl_HS",
        "outputId": "14ba1106-19f5-4012-e9f5-6d6aa405a314",
        "colab": {
          "base_uri": "https://localhost:8080/"
        }
      },
      "source": [
        "print(A)"
      ],
      "execution_count": 18,
      "outputs": [
        {
          "output_type": "stream",
          "name": "stdout",
          "text": [
            "[0, 4, 2, 3, 10, 5, 6, 7, 8, 9, 22, 11, 12, 13, 14, 15, 16, 17, 18, 19, 20, 21, 1, 23, 24, 25, 26, 27, 28, 29]\n"
          ]
        }
      ]
    }
  ]
}