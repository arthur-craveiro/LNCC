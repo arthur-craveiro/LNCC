{
  "nbformat": 4,
  "nbformat_minor": 0,
  "metadata": {
    "colab": {
      "name": "Merge-Sort.ipynb",
      "provenance": [],
      "toc_visible": true
    },
    "kernelspec": {
      "display_name": "Python 3",
      "language": "python",
      "name": "python3"
    },
    "language_info": {
      "codemirror_mode": {
        "name": "ipython",
        "version": 3
      },
      "file_extension": ".py",
      "mimetype": "text/x-python",
      "name": "python",
      "nbconvert_exporter": "python",
      "pygments_lexer": "ipython3",
      "version": "3.7.7"
    }
  },
  "cells": [
    {
      "cell_type": "markdown",
      "metadata": {
        "id": "pvPJsE8cTaG5"
      },
      "source": [
        " # GA-026: Algoritmos"
      ]
    },
    {
      "cell_type": "markdown",
      "metadata": {
        "id": "ZVxUN2riuj35"
      },
      "source": [
        "## Ordenação por Intercalação (Merge Sort)"
      ]
    },
    {
      "cell_type": "code",
      "metadata": {
        "id": "RNZ3nlkBSPcC"
      },
      "source": [
        "# Function to do merge sort\n",
        "# Baseado no código original de https://www.geeksforgeeks.org/merge-sort/\n",
        "def mergeSort(arr):\n",
        "    if len(arr) >1:\n",
        "        mid = len(arr)//2 # Finding the mid of the array\n",
        "        L = arr[:mid] # Dividing the array elements\n",
        "        R = arr[mid:] # into 2 halves\n",
        "\n",
        "        mergeSort(L) # Sorting the first half\n",
        "        mergeSort(R) # Sorting the second half\n",
        "\n",
        "        i = j = k = 0\n",
        "\n",
        "        # Copy data to temp arrays L[] and R[]\n",
        "        while i < len(L) and j < len(R):\n",
        "            if L[i] < R[j]:\n",
        "                arr[k] = L[i]\n",
        "                i+= 1\n",
        "            else:\n",
        "                arr[k] = R[j]\n",
        "                j+= 1\n",
        "            k+= 1\n",
        "\n",
        "        # Checking if any element was left\n",
        "        while i < len(L):\n",
        "            arr[k] = L[i]\n",
        "            i+= 1\n",
        "            k+= 1\n",
        "\n",
        "        while j < len(R):\n",
        "            arr[k] = R[j]\n",
        "            j+= 1\n",
        "            k+= 1"
      ],
      "execution_count": 2,
      "outputs": []
    },
    {
      "cell_type": "code",
      "metadata": {
        "tags": [],
        "id": "RZqvW5IAhX3r",
        "outputId": "9390de52-c468-4c19-8a4c-b18db28ccd9c",
        "colab": {
          "base_uri": "https://localhost:8080/"
        }
      },
      "source": [
        "import random\n",
        "#Generate n random numbers between 1 and p\n",
        "p=100\n",
        "n=20\n",
        "randomlist = random.sample(range(1, p), n)\n",
        "print(randomlist)"
      ],
      "execution_count": 3,
      "outputs": [
        {
          "output_type": "stream",
          "name": "stdout",
          "text": [
            "[53, 16, 68, 88, 74, 9, 67, 78, 43, 37, 23, 95, 1, 89, 81, 59, 11, 98, 46, 57]\n"
          ]
        }
      ]
    },
    {
      "cell_type": "code",
      "metadata": {
        "tags": [],
        "id": "Va0Z1ShJhX3s",
        "outputId": "1e78d254-babe-4b7a-8a6d-ba2c62e49643",
        "colab": {
          "base_uri": "https://localhost:8080/",
          "height": 406
        }
      },
      "source": [
        "import matplotlib.pyplot as plt\n",
        "randomliststr = []\n",
        "for j in range(0,n):\n",
        "   value_str = str(randomlist[j])\n",
        "   randomliststr.append(value_str)\n",
        "\n",
        "plt.bar(randomliststr,randomlist)\n",
        "plt.xticks([])\n",
        "plt.yticks([])\n",
        "plt.show()"
      ],
      "execution_count": 4,
      "outputs": [
        {
          "output_type": "display_data",
          "data": {
            "text/plain": [
              "<Figure size 640x480 with 1 Axes>"
            ],
            "image/png": "[encoded data removed]"
          },
          "metadata": {}
        }
      ]
    },
    {
      "cell_type": "code",
      "metadata": {
        "tags": [],
        "id": "BNyBFAgwhX3t",
        "outputId": "11803532-01c4-40a2-898c-b4e8aa721a7c",
        "colab": {
          "base_uri": "https://localhost:8080/"
        }
      },
      "source": [
        "# Driver code to test above\n",
        "mergeSort(randomlist)\n",
        "print(randomlist)"
      ],
      "execution_count": 5,
      "outputs": [
        {
          "output_type": "stream",
          "name": "stdout",
          "text": [
            "[1, 9, 11, 16, 23, 37, 43, 46, 53, 57, 59, 67, 68, 74, 78, 81, 88, 89, 95, 98]\n"
          ]
        }
      ]
    },
    {
      "cell_type": "code",
      "metadata": {
        "tags": [],
        "id": "Jm-HWShahX3u",
        "outputId": "52770f5c-0973-4a9c-fa21-bc9ceeb0bb62",
        "colab": {
          "base_uri": "https://localhost:8080/",
          "height": 406
        }
      },
      "source": [
        "import matplotlib.pyplot as plt\n",
        "randomliststr = []\n",
        "for j in range(0,n):\n",
        "   value_str = str(randomlist[j])\n",
        "   randomliststr.append(value_str)\n",
        "\n",
        "plt.bar(randomliststr,randomlist)\n",
        "plt.xticks([])\n",
        "plt.yticks([])\n",
        "plt.show()"
      ],
      "execution_count": 6,
      "outputs": [
        {
          "output_type": "display_data",
          "data": {
            "text/plain": [
              "<Figure size 640x480 with 1 Axes>"
            ],
            "image/png": "[encoded data removed]"
          },
          "metadata": {}
        }
      ]
    },
    {
      "cell_type": "markdown",
      "metadata": {
        "id": "oROB9ztqhX3u"
      },
      "source": [
        "## Medindo tempo de execução"
      ]
    },
    {
      "cell_type": "code",
      "metadata": {
        "id": "EApTOtLihX3v"
      },
      "source": [
        "import random\n",
        "#Generate random numbers between 1 and p\n",
        "p=10\n",
        "randomlist = random.sample(range(1, p),p-1)"
      ],
      "execution_count": 7,
      "outputs": []
    },
    {
      "cell_type": "code",
      "metadata": {
        "tags": [],
        "id": "uiBvDABvhX3v",
        "outputId": "502f2993-74d1-4939-f659-9f7699fc00be",
        "colab": {
          "base_uri": "https://localhost:8080/"
        }
      },
      "source": [
        "# Driver code to test above\n",
        "import time\n",
        "start_time = time.time()\n",
        "\n",
        "mergeSort(randomlist)\n",
        "\n",
        "print(\"--- %s seconds ---\" % (time.time() - start_time))"
      ],
      "execution_count": 8,
      "outputs": [
        {
          "output_type": "stream",
          "name": "stdout",
          "text": [
            "--- 0.00010323524475097656 seconds ---\n"
          ]
        }
      ]
    },
    {
      "cell_type": "code",
      "metadata": {
        "tags": [],
        "id": "UFAnvifjhX3w",
        "outputId": "f551c575-b6ef-4ce2-8d2c-dbc6be5e858f",
        "colab": {
          "base_uri": "https://localhost:8080/",
          "height": 430
        }
      },
      "source": [
        "import matplotlib.pyplot as plt\n",
        "import random\n",
        "import time\n",
        "p = [10000, 20000, 30000, 40000, 50000, 60000, 70000, 80000, 90000, 100000]\n",
        "t = []\n",
        "for i in p:\n",
        "    randomlist = random.sample(range(1, i),i-1)\n",
        "    start_time = time.time()\n",
        "    mergeSort(randomlist)\n",
        "    end_time = time.time() - start_time\n",
        "    t.append(end_time)\n",
        "plt.plot(p,t,'ro')\n",
        "plt.show()"
      ],
      "execution_count": 9,
      "outputs": [
        {
          "output_type": "display_data",
          "data": {
            "text/plain": [
              "<Figure size 640x480 with 1 Axes>"
            ],
            "image/png": "[encoded data removed]"
          },
          "metadata": {}
        }
      ]
    },
    {
      "cell_type": "code",
      "metadata": {
        "tags": [],
        "id": "XQtTouibhX3x",
        "outputId": "7f294ccd-b350-4666-f3f0-37c8906876c3",
        "colab": {
          "base_uri": "https://localhost:8080/"
        }
      },
      "source": [
        "import numpy as np\n",
        "matrix = np.array(t)\n",
        "t_tr=matrix.reshape(matrix.size,1)\n",
        "print(t_tr)"
      ],
      "execution_count": 10,
      "outputs": [
        {
          "output_type": "stream",
          "name": "stdout",
          "text": [
            "[[0.05120468]\n",
            " [0.11282611]\n",
            " [0.15663767]\n",
            " [0.22143316]\n",
            " [0.28520751]\n",
            " [0.35116386]\n",
            " [0.39349127]\n",
            " [0.47825789]\n",
            " [0.86709142]\n",
            " [1.21577239]]\n"
          ]
        }
      ]
    },
    {
      "cell_type": "code",
      "metadata": {
        "id": "Qsb2LhDqhX3y"
      },
      "source": [],
      "execution_count": null,
      "outputs": []
    }
  ]
}